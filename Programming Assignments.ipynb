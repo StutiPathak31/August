{
 "cells": [
  {
   "cell_type": "markdown",
   "metadata": {},
   "source": [
    "# PYTHON PRACTICE"
   ]
  },
  {
   "cell_type": "markdown",
   "metadata": {},
   "source": [
    "## Week 2"
   ]
  },
  {
   "cell_type": "markdown",
   "metadata": {},
   "source": [
    "#### Question 1"
   ]
  },
  {
   "cell_type": "markdown",
   "metadata": {},
   "source": [
    "Write a function intreverse(n) that takes as input a positive integer n and returns the integer obtained by reversing \n",
    "the digits in n.\n",
    "\n",
    ">intreverse(783)\n",
    ">>387\n",
    "\n",
    ">intreverse(242789)\n",
    ">>987242\n",
    "  \n",
    ">intreverse(3)\n",
    "  \n",
    "  >>3"
   ]
  },
  {
   "cell_type": "code",
   "execution_count": 1,
   "metadata": {},
   "outputs": [],
   "source": [
    "def intreverse(n):\n",
    "  sum=0\n",
    "  while n!=0:\n",
    "    sum=sum*10+(n%10)\n",
    "    n=int(n/10)\n",
    "  return(sum)"
   ]
  },
  {
   "cell_type": "code",
   "execution_count": 6,
   "metadata": {},
   "outputs": [
    {
     "name": "stdout",
     "output_type": "stream",
     "text": [
      "863\n",
      "897897\n",
      "7\n"
     ]
    }
   ],
   "source": [
    "print(intreverse(368))\n",
    "print(intreverse(798798))\n",
    "print(intreverse(7))"
   ]
  },
  {
   "cell_type": "markdown",
   "metadata": {},
   "source": [
    "#### Question 2"
   ]
  },
  {
   "cell_type": "markdown",
   "metadata": {},
   "source": [
    "Write a function matched(s) that takes as input a string s and checks if the brackets \"(\" and \")\" in s are matched: that is, every \"(\" has a matching \")\" after it and every \")\" has a matching \"(\" before it. Your function should ignore all other symbols that appear in s. Your function should return True if s has matched brackets and False if it does not."
   ]
  },
  {
   "cell_type": "code",
   "execution_count": 7,
   "metadata": {},
   "outputs": [],
   "source": [
    "def matched(s):\n",
    "    c=0\n",
    "    for i in range(len(s)):\n",
    "        if s[i]==\"(\":\n",
    "            c=c+1\n",
    "        if s[i]==\")\" :\n",
    "            if c==0:\n",
    "                return (False)\n",
    "            else:\n",
    "                c=c-1\n",
    "    if c==0:\n",
    "        return(True)\n",
    "    else:\n",
    "        return(False)\n"
   ]
  },
  {
   "cell_type": "code",
   "execution_count": 8,
   "metadata": {},
   "outputs": [
    {
     "name": "stdout",
     "output_type": "stream",
     "text": [
      "False\n",
      "False\n",
      "True\n"
     ]
    }
   ],
   "source": [
    "print(matched(\"(7)(a\"))\n",
    "print(matched(\"a)*(?\"))\n",
    "print(matched(\"((jkl)78(A)&l(8(dd(FJI:),):)?)\"))"
   ]
  },
  {
   "cell_type": "markdown",
   "metadata": {},
   "source": [
    "#### Question 3"
   ]
  },
  {
   "cell_type": "markdown",
   "metadata": {},
   "source": [
    "Write a function sumprimes(l) that takes as input a list of integers l and retuns the sum of all the prime numbers in l."
   ]
  },
  {
   "cell_type": "code",
   "execution_count": 10,
   "metadata": {},
   "outputs": [],
   "source": [
    "def sumprimes(l):\n",
    "    s=0\n",
    "    for i in l:\n",
    "        c=0\n",
    "        for j in range(1,i+1):\n",
    "            if i%j==0:\n",
    "                c=c+1\n",
    "        if c==2:\n",
    "            s=s+i\n",
    "    return(s)"
   ]
  },
  {
   "cell_type": "code",
   "execution_count": 11,
   "metadata": {},
   "outputs": [
    {
     "name": "stdout",
     "output_type": "stream",
     "text": [
      "46\n",
      "8\n",
      "0\n"
     ]
    }
   ],
   "source": [
    "print(sumprimes([17,51,29,39]))\n",
    "print(sumprimes([-3,-5,3,5]))\n",
    "print(sumprimes([4,6,15,27]))"
   ]
  },
  {
   "cell_type": "markdown",
   "metadata": {},
   "source": [
    "## Week 3"
   ]
  },
  {
   "cell_type": "markdown",
   "metadata": {},
   "source": [
    "#### Question 1"
   ]
  },
  {
   "cell_type": "markdown",
   "metadata": {},
   "source": [
    "Define a Python function descending(l) that returns True if each element in its input list is at most as big as the one before it. \n",
    ">descending([])\n",
    "  True\n",
    "\n",
    ">descending([4,4,3])\n",
    "  True\n",
    "\n",
    ">descending([19,17,18,7])\n",
    "  False"
   ]
  },
  {
   "cell_type": "code",
   "execution_count": 12,
   "metadata": {},
   "outputs": [],
   "source": [
    "def descending(l):\n",
    "  if len(l) < 2:\n",
    "    return(True)\n",
    "  return(l[0] >= l[1] and descending(l[1:]))"
   ]
  },
  {
   "cell_type": "markdown",
   "metadata": {},
   "source": [
    "#### Question 2"
   ]
  },
  {
   "cell_type": "markdown",
   "metadata": {},
   "source": [
    "A two dimensional matrix can be represented in Python row-wise, as a list of lists: each inner list represents one row of the matrix. For instance, the matrix\n",
    "\n",
    "  1  2  3\n",
    "  4  5  6 \n",
    "would be represented as [[1, 2, 3], [4, 5, 6]].\n",
    "\n",
    "The transpose of a matrix makes each row into a column. For instance, the transpose of the matrix above is\n",
    "\n",
    "  1  4  \n",
    "  2  5\n",
    "  3  6\n",
    "Write a Python function transpose(m) that takes as input a two dimensional matrix using this row-wise representation and returns the transpose of the matrix using the same representation. You may assume that the input to the function is always a non-empty matrix.\n",
    " > transpose([[1,4,9]])\n",
    "   [[1], [4], [9]]\n",
    "\n",
    "  > transpose([[1,3,5],[2,4,6]])\n",
    "  [[1, 2], [3, 4], [5, 6]]\n",
    "\n",
    "  > transpose([[1,1,1],[2,2,2],[3,3,3]])\n",
    "  [[1, 2, 3], [1, 2, 3], [1, 2, 3]]"
   ]
  },
  {
   "cell_type": "code",
   "execution_count": 13,
   "metadata": {},
   "outputs": [],
   "source": [
    "def transpose(l):\n",
    "    row,col,trans=len(l),len(l[0]),[]\n",
    "    \n",
    "    for i in range(col):\n",
    "        local=[]\n",
    "        for j in range(row):\n",
    "            local.append(l[j][i])\n",
    "        trans.append(local)\n",
    "    return trans"
   ]
  },
  {
   "cell_type": "markdown",
   "metadata": {},
   "source": [
    "#### Question 3"
   ]
  },
  {
   "cell_type": "markdown",
   "metadata": {},
   "source": [
    "A list of integers is said to be a valley if it consists of a sequence of strictly decreasing values followed by a sequence of strictly increasing values. The decreasing and increasing sequences must be of length at least 2. The last value of the decreasing sequence is the first value of the increasing sequence.\n",
    "\n",
    "Write a Python function valley(l) that takes a list of integers and returns True if l is a valley and False otherwise.\n",
    "\n",
    "> valley([3,2,1,2,3])\n",
    "  True\n",
    "  \n",
    "> valley([3,2,1])\n",
    "  False\n",
    "\n",
    "> valley([3,3,2,1,2])\n",
    "  False"
   ]
  },
  {
   "cell_type": "code",
   "execution_count": 15,
   "metadata": {},
   "outputs": [],
   "source": [
    "def descendingsupport(l):\n",
    "  if len(l) < 2:\n",
    "    return(True)\n",
    "  return(l[0] > l[1] and descendingsupport(l[1:]))  \n",
    "\n",
    "def ascendingsupport(l):\n",
    "  if len(l) < 2:\n",
    "    return(True)\n",
    "  return(l[0] <l[1] and ascendingsupport(l[1:]))\n",
    "\n",
    "def valley(l):\n",
    "    if len(l)<2:\n",
    "        return False\n",
    "    else:\n",
    "        change=l.index(min(l))\n",
    "        return descendingsupport(l[0:change+1]) and ascendingsupport(l[change:])"
   ]
  },
  {
   "cell_type": "markdown",
   "metadata": {},
   "source": [
    "## Week 4"
   ]
  },
  {
   "cell_type": "markdown",
   "metadata": {},
   "source": [
    "#### Question 1\n"
   ]
  },
  {
   "cell_type": "markdown",
   "metadata": {},
   "source": [
    "We represent scores of batsmen across a sequence of matches in a two level dictionary as follows:\n",
    "\n",
    "   {'match1':{'player1':57, 'player2':38}, 'match2':{'player3':9, 'player1':42}, 'match3':{'player2':41, 'player4':63, 'player3':91}\n",
    "Each match is identified by a string, as is each player. The scores are all integers. The names associated with the matches are not fixed (here they are 'match1','match2','match3'), nor are the names of the players. A player need not have a score recorded in all matches.\n",
    "\n",
    "Define a Python function orangecap(d) that reads a dictionary d of this form and identifies the player with the highest total score. Your function should return a pair (playername,topscore) where playername is a string, the name of the player with the highest score, and topscore is an integer, the total score of playername.\n",
    "\n",
    "The input will be such that there are never any ties for highest total score.\n",
    "\n",
    "For instance:\n",
    "\n",
    "  > orangecap({'match1':{'player1':57, 'player2':38}, 'match2':{'player3':9, 'player1':42}, 'match3':{'player2':41, 'player4':63, 'player3':91}})\n",
    "  \n",
    "('player3', 100)\n",
    "\n",
    "  > orangecap({'test1':{'Ashwin':84, 'Kohli':120}, 'test2':{'ashwin':59, 'Pujara':42}})\n",
    "  \n",
    "('Kohli', 120)"
   ]
  },
  {
   "cell_type": "code",
   "execution_count": 16,
   "metadata": {},
   "outputs": [],
   "source": [
    "def orangecap(d):\n",
    "    ndict={}\n",
    "    (play,score)=(\"random\",0)\n",
    "    for match in list(d.keys()):    \n",
    "        for player in d[match]:\n",
    "            if player in ndict.keys():\n",
    "                ndict[player]=ndict[player]+d[match][player]\n",
    "            else:\n",
    "                ndict[player]=d[match][player]\n",
    "                \n",
    "                \n",
    "    for player in ndict:\n",
    "        if ndict[player]>score:\n",
    "            (play,score)=(player,ndict[player])\n",
    "            \n",
    "    return ((play,score))"
   ]
  },
  {
   "cell_type": "markdown",
   "metadata": {},
   "source": [
    "#### Question 2"
   ]
  },
  {
   "cell_type": "markdown",
   "metadata": {},
   "source": [
    "Let us consider polynomials in a single variable x with integer coefficients: for instance, 3x4 - 17x2 - 3x + 5. Each term of the polynomial can be represented as a pair of integers (coefficient,exponent). The polynomial itself is then a list of such pairs.\n",
    "\n",
    "We have the following constraints to guarantee that each polynomial has a unique representation:\n",
    "\n",
    "Terms are sorted in descending order of exponent\n",
    "No term has a zero cofficient\n",
    "No two terms have the same exponent\n",
    "Exponents are always nonnegative\n",
    "For example, the polynomial introduced earlier is represented as\n",
    "\n",
    "  [(3,4),(-17,2),(-3,1),(5,0)]\n",
    "The zero polynomial, 0, is represented as the empty list [], since it has no terms with nonzero coefficients.\n",
    "\n",
    "Write Python functions for the following operations:\n",
    "\n",
    "  \n",
    "  addpoly(p1,p2)\n",
    "  multpoly(p1,p2)\n",
    "that add and multiply two polynomials, respectively.\n",
    "\n",
    "You may assume that the inputs to these functions follow the representation given above. Correspondingly, the outputs from these functions should also obey the same constraints.\n",
    "\n",
    "Hint: You are not restricted to writing just the two functions asked for. You can write auxiliary functions to \"clean up\" polynomials – e.g., remove zero coefficient terms, combine like terms, sort by exponent etc. Build a library of functions that can be combined to achieve the desired format.\n",
    "\n",
    "You may also want to convert the list representation to a dictionary representation and manipulate the dictionary representation, and then convert back.\n",
    "\n",
    "Some examples:\n",
    "\n",
    "addpoly([(4,3),(3,0)],[(-4,3),(2,1)])\n",
    "  \n",
    "> [(2, 1),(3, 0)]\n",
    "\n",
    "Explanation: (4x3 + 3) + (-4x3 + 2x) = 2x + 3\n",
    "\n",
    "addpoly([(2,1)],[(-2,1)])\n",
    "  \n",
    ">[]\n",
    "\n",
    "Explanation: 2x + (-2x) = 0\n",
    "\n",
    "multpoly([(1,1),(-1,0)],[(1,2),(1,1),(1,0)])\n",
    "  \n",
    " > [(1, 3),(-1, 0)]\n",
    "  \n",
    "Explanation: (x - 1) * (x2 + x + 1) = x3 - 1"
   ]
  },
  {
   "cell_type": "code",
   "execution_count": 3,
   "metadata": {},
   "outputs": [],
   "source": [
    "def addpoly(p1,p2):\n",
    "    l=[]\n",
    "    i,j=0,0\n",
    "    while i<len(p1) and j<len(p2):\n",
    "        if p1[i][1]>p2[j][1]:\n",
    "            l.append(p1[i])\n",
    "            i=i+1\n",
    "        elif p1[i][1]<p2[j][1]:\n",
    "            l.append(p2[j])\n",
    "            j=j+1\n",
    "        else:\n",
    "            res=(p1[i][0]+p2[j][0],p1[i][1])\n",
    "            i=i+1\n",
    "            j=j+1\n",
    "            l.append(res)\n",
    "            \n",
    "    while i<len(p1):\n",
    "        l.append(p1[i])\n",
    "        i=i+1\n",
    "    while j<len(p2):\n",
    "        l.append(p2[j])\n",
    "        j=j+1\n",
    "    \n",
    "    nl=[]\n",
    "    for i in l:\n",
    "        if i[0]!=0:\n",
    "            nl.append(i)\n",
    "    return(nl)\n",
    "\n",
    "def multpoly(p1,p2):\n",
    "    l=[]\n",
    "    for tup1 in p1:\n",
    "        nl=[]\n",
    "        for tup2 in p2:\n",
    "            coef,power=tup1[0]*tup2[0],tup1[1]+tup2[1]\n",
    "            nl.append((coef,power))\n",
    "        l= addpoly(l,nl)\n",
    "    return(l)"
   ]
  },
  {
   "cell_type": "code",
   "execution_count": null,
   "metadata": {},
   "outputs": [],
   "source": []
  },
  {
   "cell_type": "code",
   "execution_count": null,
   "metadata": {},
   "outputs": [],
   "source": []
  }
 ],
 "metadata": {
  "kernelspec": {
   "display_name": "Python 3",
   "language": "python",
   "name": "python3"
  },
  "language_info": {
   "codemirror_mode": {
    "name": "ipython",
    "version": 3
   },
   "file_extension": ".py",
   "mimetype": "text/x-python",
   "name": "python",
   "nbconvert_exporter": "python",
   "pygments_lexer": "ipython3",
   "version": "3.6.4"
  }
 },
 "nbformat": 4,
 "nbformat_minor": 2
}
