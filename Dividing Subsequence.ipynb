{
 "cells": [
  {
   "cell_type": "markdown",
   "metadata": {},
   "source": [
    "# DIVIDING SUBSEQUENCES"
   ]
  },
  {
   "cell_type": "markdown",
   "metadata": {},
   "source": [
    "A subsequence of a sequence is anything obtained by dropping some of the elements. \n",
    "\n",
    "For example, 3,7,11,3 is a subsequence of 6,3,11,5,7,4,3,11,5,3 , but 3,3,7 is not a subsequence of 6,3,11,5,7,4,3,11,5,3 .\n",
    "\n",
    "A fully dividing sequence is a sequence a1,a2,…,aN where ai divides aj whenever i < j. For example, 3,15,60,720 is a fully dividing sequence.\n",
    "\n",
    "Given a sequence of integers your aim is to find the length of the longest fully dividing subsequence of this sequence.\n",
    "\n",
    "Consider the sequence 2,3,7,8,14,39,145,76,320\n",
    "\n",
    "It has a fully dividing sequence of length 3, namely 2,8,320, but none of length 4 or greater.\n",
    "\n",
    "Consider the sequence 2,11,16,12,36,60,71,17,29,144,288,129,432,993 .\n",
    "\n",
    "It has two fully dividing subsequences of length 5,\n",
    "\n",
    "2,11,16,12,36,60,71,17,29,144,288,129,432,993 and\n",
    "\n",
    "2,11,16,12,36,60,71,17,29,144,288,129,432,993\n",
    "\n",
    "and none of length 6 or greater."
   ]
  },
  {
   "cell_type": "code",
   "execution_count": 6,
   "metadata": {},
   "outputs": [
    {
     "name": "stdout",
     "output_type": "stream",
     "text": [
      "9\n",
      "2\n",
      "3\n",
      "7\n",
      "8\n",
      "14\n",
      "39\n",
      "145\n",
      "76\n",
      "320\n",
      "[1, 1, 1, 2, 2, 2, 1, 2, 3]\n"
     ]
    }
   ],
   "source": [
    "def fun(l):\n",
    "    Storedbest=[1]\n",
    "    for i in range(1,len(l)):\n",
    "        maximum=1\n",
    "        for j in range(0,i):\n",
    "            if l[i]%l[j]==0:\n",
    "                maximum=max(maximum,Storedbest[j]+1)\n",
    "        Storedbest.append(maximum)\n",
    "    print(Storedbest)\n",
    "\n",
    "if __name__=='__main__':\n",
    "    N=int(input())\n",
    "    l=[]\n",
    "    for _ in range(0,N):\n",
    "        x=int(input())\n",
    "        l.append(x)\n",
    "    fun(l)"
   ]
  },
  {
   "cell_type": "markdown",
   "metadata": {},
   "source": [
    "## Input:\n",
    "9\n",
    "\n",
    "[ 2, 3, 7, 8, 14, 39, 145, 76, 320]\n",
    "\n",
    "14\n",
    "\n",
    "[ 2, 11, 16, 12, 36, 60, 71, 17, 29, 144, 288, 129, 32 ,993 ]\n",
    "\n",
    "## Output:\n",
    "3\n",
    "\n",
    "5"
   ]
  },
  {
   "cell_type": "code",
   "execution_count": null,
   "metadata": {},
   "outputs": [],
   "source": []
  }
 ],
 "metadata": {
  "kernelspec": {
   "display_name": "Python 3",
   "language": "python",
   "name": "python3"
  },
  "language_info": {
   "codemirror_mode": {
    "name": "ipython",
    "version": 3
   },
   "file_extension": ".py",
   "mimetype": "text/x-python",
   "name": "python",
   "nbconvert_exporter": "python",
   "pygments_lexer": "ipython3",
   "version": "3.6.4"
  }
 },
 "nbformat": 4,
 "nbformat_minor": 2
}
